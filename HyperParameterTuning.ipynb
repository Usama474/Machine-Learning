{
 "cells": [
  {
   "cell_type": "code",
   "execution_count": 2,
   "id": "096f53ce",
   "metadata": {},
   "outputs": [],
   "source": [
    "import pandas as pd\n",
    "from sklearn.datasets import load_digits\n",
    "from sklearn.ensemble import RandomForestClassifier\n",
    "from sklearn.tree import DecisionTreeClassifier\n",
    "from sklearn.naive_bayes import GaussianNB\n",
    "from sklearn.naive_bayes import MultinomialNB\n",
    "from sklearn.svm import SVC\n",
    "from sklearn.linear_model import LogisticRegression\n",
    "\n",
    "d= load_digits()"
   ]
  },
  {
   "cell_type": "code",
   "execution_count": 3,
   "id": "ba3f75b3",
   "metadata": {},
   "outputs": [],
   "source": [
    "df= pd.DataFrame(d.data, columns= d.feature_names)\n",
    "df['target']= d.target\n",
    "df\n",
    "Y= df.target\n",
    "X= df.drop(['target'], axis= 'columns')"
   ]
  },
  {
   "cell_type": "code",
   "execution_count": 22,
   "id": "bacd3044",
   "metadata": {},
   "outputs": [],
   "source": [
    "def getscore(model, xtrn,xtst, ytrn, ytst):\n",
    "    model.fit(xtrn, ytrn)\n",
    "    return model.score(xtst, ytst)"
   ]
  },
  {
   "cell_type": "code",
   "execution_count": 62,
   "id": "e44f2c8f",
   "metadata": {
    "scrolled": true
   },
   "outputs": [
    {
     "data": {
      "text/plain": [
       "{'Random Forest': [0.9415041782729805],\n",
       " 'Decision Tree': [0.7938718662952646],\n",
       " 'SVM': [0.9415041782729805]}"
      ]
     },
     "execution_count": 62,
     "metadata": {},
     "output_type": "execute_result"
    }
   ],
   "source": [
    "score={}\n",
    "models={'Random Forest':RandomForestClassifier(),'Decision Tree': DecisionTreeClassifier(),'SVM': SVC()}\n",
    "from sklearn.model_selection import cross_val_score\n",
    "from sklearn.model_selection import KFold\n",
    "kf= KFold(n_splits=5)\n",
    "for a, b in models.items():\n",
    "    for train_index, test_index in kf.split(X):\n",
    "        xtrain,xtest,ytrain,ytest = d.data[train_index], d.data[test_index], Y[train_index], Y[test_index]\n",
    "        score.update( {a : [getscore(models[a],xtrain, xtest, ytrain, ytest)]})\n",
    "        \n",
    "\n",
    "\n",
    "score\n"
   ]
  },
  {
   "cell_type": "code",
   "execution_count": 63,
   "id": "314483db",
   "metadata": {},
   "outputs": [
    {
     "data": {
      "text/plain": [
       "{'Random Forest': array([0.925     , 0.90833333, 0.95821727, 0.96657382, 0.93036212]),\n",
       " 'Decision Tree': array([0.79722222, 0.725     , 0.81337047, 0.82729805, 0.78272981]),\n",
       " 'SVM': array([0.96111111, 0.94444444, 0.98328691, 0.98885794, 0.93871866])}"
      ]
     },
     "execution_count": 63,
     "metadata": {},
     "output_type": "execute_result"
    }
   ],
   "source": [
    "dict={}\n",
    "for a, b in models.items():\n",
    "    dict[a] = cross_val_score(models[a], X, Y, cv= 5)\n",
    "\n",
    "dict"
   ]
  },
  {
   "cell_type": "code",
   "execution_count": null,
   "id": "721d21cf",
   "metadata": {},
   "outputs": [],
   "source": [
    "# Now Having leanrt That that cross_val_score does exactly ythe same"
   ]
  }
 ],
 "metadata": {
  "kernelspec": {
   "display_name": "Python 3 (ipykernel)",
   "language": "python",
   "name": "python3"
  },
  "language_info": {
   "codemirror_mode": {
    "name": "ipython",
    "version": 3
   },
   "file_extension": ".py",
   "mimetype": "text/x-python",
   "name": "python",
   "nbconvert_exporter": "python",
   "pygments_lexer": "ipython3",
   "version": "3.10.2"
  }
 },
 "nbformat": 4,
 "nbformat_minor": 5
}
